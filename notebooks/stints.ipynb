{
 "cells": [
  {
   "cell_type": "code",
   "execution_count": 10,
   "metadata": {},
   "outputs": [],
   "source": [
    "import os\n",
    "import pandas as pd \n",
    "import numpy as np\n",
    "\n",
    "import matplotlib.pyplot as plt\n",
    "import seaborn as sns\n"
   ]
  },
  {
   "cell_type": "markdown",
   "metadata": {},
   "source": [
    "reading the data"
   ]
  },
  {
   "cell_type": "code",
   "execution_count": 31,
   "metadata": {},
   "outputs": [],
   "source": [
    "stints_data = pd.read_csv('/Users/Tavo/code/stint/students-jobs/packages/mlmodel/mlmodel/datasets/test_interview_18022020.csv', index_col=0)"
   ]
  },
  {
   "cell_type": "markdown",
   "metadata": {},
   "source": [
    "basic input analysis: <br>\n",
    "- shape\n",
    "- null values\n",
    "- variable types\n",
    "- etc"
   ]
  },
  {
   "cell_type": "code",
   "execution_count": 32,
   "metadata": {},
   "outputs": [
    {
     "output_type": "execute_result",
     "data": {
      "text/html": "<div>\n<style scoped>\n    .dataframe tbody tr th:only-of-type {\n        vertical-align: middle;\n    }\n\n    .dataframe tbody tr th {\n        vertical-align: top;\n    }\n\n    .dataframe thead th {\n        text-align: right;\n    }\n</style>\n<table border=\"1\" class=\"dataframe\">\n  <thead>\n    <tr style=\"text-align: right;\">\n      <th></th>\n      <th>Role</th>\n      <th>Part of chain?</th>\n      <th>Repeats?</th>\n      <th>Include Repeats From Other Business</th>\n      <th>Student Level</th>\n      <th>Stint Count Min</th>\n      <th>Stint Count Max</th>\n      <th>Screening Badge?</th>\n      <th>Screening Grade Min</th>\n      <th>Average Rating Minimum</th>\n      <th>Include new students?</th>\n      <th>Runner Count</th>\n      <th>Bar Back Count</th>\n      <th>KP Count</th>\n      <th>Waiter / Waitress Count</th>\n      <th>Runner 4/5* Count</th>\n      <th>Bar Back 4/5* Count</th>\n      <th>KP 4/5* Count</th>\n      <th>Waiter / Waitress 4/5* Count</th>\n      <th>Business</th>\n    </tr>\n  </thead>\n  <tbody>\n    <tr>\n      <th>0</th>\n      <td>KP</td>\n      <td>No</td>\n      <td>Once in a while</td>\n      <td>NaN</td>\n      <td>All Levels</td>\n      <td>1</td>\n      <td>20.0</td>\n      <td>NaN</td>\n      <td>3.00</td>\n      <td>4.0</td>\n      <td>Yes if busy</td>\n      <td>NaN</td>\n      <td>NaN</td>\n      <td>NaN</td>\n      <td>NaN</td>\n      <td>NaN</td>\n      <td>NaN</td>\n      <td>NaN</td>\n      <td>NaN</td>\n      <td>0</td>\n    </tr>\n    <tr>\n      <th>1</th>\n      <td>Bar Back</td>\n      <td>No</td>\n      <td>Most of the time</td>\n      <td>NaN</td>\n      <td>All Levels</td>\n      <td>2</td>\n      <td>NaN</td>\n      <td>NaN</td>\n      <td>3.00</td>\n      <td>4.5</td>\n      <td>No</td>\n      <td>NaN</td>\n      <td>NaN</td>\n      <td>NaN</td>\n      <td>NaN</td>\n      <td>NaN</td>\n      <td>2.0</td>\n      <td>NaN</td>\n      <td>NaN</td>\n      <td>1</td>\n    </tr>\n    <tr>\n      <th>2</th>\n      <td>Host/Hostess</td>\n      <td>No</td>\n      <td>Most of the time</td>\n      <td>NaN</td>\n      <td>All Levels</td>\n      <td>2</td>\n      <td>NaN</td>\n      <td>[Reiss]</td>\n      <td>4.25</td>\n      <td>4.5</td>\n      <td>No</td>\n      <td>NaN</td>\n      <td>NaN</td>\n      <td>NaN</td>\n      <td>NaN</td>\n      <td>NaN</td>\n      <td>NaN</td>\n      <td>NaN</td>\n      <td>NaN</td>\n      <td>1</td>\n    </tr>\n    <tr>\n      <th>3</th>\n      <td>KP</td>\n      <td>No</td>\n      <td>Most of the time</td>\n      <td>NaN</td>\n      <td>All Levels</td>\n      <td>2</td>\n      <td>NaN</td>\n      <td>NaN</td>\n      <td>3.00</td>\n      <td>4.5</td>\n      <td>No</td>\n      <td>NaN</td>\n      <td>NaN</td>\n      <td>NaN</td>\n      <td>NaN</td>\n      <td>NaN</td>\n      <td>NaN</td>\n      <td>2.0</td>\n      <td>NaN</td>\n      <td>2</td>\n    </tr>\n    <tr>\n      <th>4</th>\n      <td>Runner</td>\n      <td>No</td>\n      <td>Most of the time</td>\n      <td>NaN</td>\n      <td>All Levels</td>\n      <td>2</td>\n      <td>NaN</td>\n      <td>NaN</td>\n      <td>3.00</td>\n      <td>4.5</td>\n      <td>No</td>\n      <td>NaN</td>\n      <td>NaN</td>\n      <td>NaN</td>\n      <td>NaN</td>\n      <td>2.0</td>\n      <td>NaN</td>\n      <td>NaN</td>\n      <td>2.0</td>\n      <td>2</td>\n    </tr>\n  </tbody>\n</table>\n</div>",
      "text/plain": "          Role  Part of chain?          Repeats?  \\\n0            KP             No   Once in a while   \n1      Bar Back             No  Most of the time   \n2  Host/Hostess             No  Most of the time   \n3            KP             No  Most of the time   \n4        Runner             No  Most of the time   \n\n  Include Repeats From Other Business Student Level   Stint Count Min   \\\n0                                 NaN     All Levels                 1   \n1                                 NaN     All Levels                 2   \n2                                 NaN     All Levels                 2   \n3                                 NaN     All Levels                 2   \n4                                 NaN     All Levels                 2   \n\n   Stint Count Max Screening Badge?  Screening Grade Min   \\\n0             20.0              NaN                  3.00   \n1              NaN              NaN                  3.00   \n2              NaN          [Reiss]                  4.25   \n3              NaN              NaN                  3.00   \n4              NaN              NaN                  3.00   \n\n   Average Rating Minimum  Include new students?  Runner Count   \\\n0                      4.0           Yes if busy            NaN   \n1                      4.5                    No            NaN   \n2                      4.5                    No            NaN   \n3                      4.5                    No            NaN   \n4                      4.5                    No            NaN   \n\n   Bar Back Count   KP Count   Waiter / Waitress Count   Runner 4/5* Count   \\\n0              NaN        NaN                       NaN                 NaN   \n1              NaN        NaN                       NaN                 NaN   \n2              NaN        NaN                       NaN                 NaN   \n3              NaN        NaN                       NaN                 NaN   \n4              NaN        NaN                       NaN                 2.0   \n\n   Bar Back 4/5* Count  KP 4/5* Count  Waiter / Waitress 4/5* Count  Business  \n0                  NaN            NaN                           NaN         0  \n1                  2.0            NaN                           NaN         1  \n2                  NaN            NaN                           NaN         1  \n3                  NaN            2.0                           NaN         2  \n4                  NaN            NaN                           2.0         2  "
     },
     "metadata": {},
     "execution_count": 32
    }
   ],
   "source": [
    "stints_data.head()"
   ]
  },
  {
   "cell_type": "code",
   "execution_count": 33,
   "metadata": {},
   "outputs": [
    {
     "output_type": "execute_result",
     "data": {
      "text/plain": "(445, 20)"
     },
     "metadata": {},
     "execution_count": 33
    }
   ],
   "source": [
    "stints_data.shape"
   ]
  },
  {
   "cell_type": "code",
   "execution_count": 34,
   "metadata": {},
   "outputs": [],
   "source": [
    "cols_ = [s.replace(' ', '_') for s in stints_data.columns]\n",
    "cols_ = [s.replace('?', '') for s in cols_]\n",
    "stints_data.columns = cols_"
   ]
  },
  {
   "cell_type": "code",
   "execution_count": 35,
   "metadata": {},
   "outputs": [
    {
     "output_type": "execute_result",
     "data": {
      "text/plain": "Role_                                    0\nPart_of_chain                            0\nRepeats                                  0\nInclude_Repeats_From_Other_Business    356\nStudent_Level_                           0\nStint_Count_Min_                         0\nStint_Count_Max                        297\nScreening_Badge                        363\nScreening_Grade_Min_                     0\nAverage_Rating_Minimum_                  0\nInclude_new_students                     0\nRunner_Count_                          423\nBar_Back_Count_                        442\nKP_Count_                              425\nWaiter_/_Waitress_Count_               423\nRunner_4/5*_Count_                     313\nBar_Back_4/5*_Count                    371\nKP_4/5*_Count                          362\nWaiter_/_Waitress_4/5*_Count           314\nBusiness                                 0\ndtype: int64"
     },
     "metadata": {},
     "execution_count": 35
    }
   ],
   "source": [
    "stints_data.isna().sum()"
   ]
  },
  {
   "cell_type": "code",
   "execution_count": 36,
   "metadata": {},
   "outputs": [
    {
     "output_type": "execute_result",
     "data": {
      "text/plain": "Role_                                   object\nPart_of_chain                           object\nRepeats                                 object\nInclude_Repeats_From_Other_Business     object\nStudent_Level_                          object\nStint_Count_Min_                         int64\nStint_Count_Max                        float64\nScreening_Badge                         object\nScreening_Grade_Min_                   float64\nAverage_Rating_Minimum_                float64\nInclude_new_students                    object\nRunner_Count_                          float64\nBar_Back_Count_                        float64\nKP_Count_                              float64\nWaiter_/_Waitress_Count_               float64\nRunner_4/5*_Count_                     float64\nBar_Back_4/5*_Count                    float64\nKP_4/5*_Count                          float64\nWaiter_/_Waitress_4/5*_Count           float64\nBusiness                                 int64\ndtype: object"
     },
     "metadata": {},
     "execution_count": 36
    }
   ],
   "source": [
    "stints_data.dtypes"
   ]
  },
  {
   "cell_type": "code",
   "execution_count": 39,
   "metadata": {},
   "outputs": [
    {
     "output_type": "execute_result",
     "data": {
      "text/plain": "array(['Once in a while', 'Most of the time', 'Never', 'Always',\n       'Try repeats first', 'Only repeats'], dtype=object)"
     },
     "metadata": {},
     "execution_count": 39
    }
   ],
   "source": [
    "stints_data.Repeats.unique()"
   ]
  },
  {
   "cell_type": "markdown",
   "metadata": {},
   "source": [
    "let's identify from now the possible categorical and numerical variables - handy later!"
   ]
  },
  {
   "cell_type": "code",
   "execution_count": 42,
   "metadata": {},
   "outputs": [],
   "source": [
    "categorical = [\n",
    "                'Role_', \n",
    "                'Part_of_chain', \n",
    "                'Repeats',\n",
    "                'Include_Repeats_From_Other_Business', \n",
    "                'Student_Level_',\n",
    "                'Screening_Badge',\n",
    "                'Include_new_students', \n",
    "                'Business'\n",
    "]\n"
   ]
  },
  {
   "cell_type": "code",
   "execution_count": 43,
   "metadata": {},
   "outputs": [],
   "source": [
    "numerical = [\n",
    "                'Stint_Count_Min_', \n",
    "                'Stint_Count_Max', \n",
    "                'Screening_Grade_Min_', \n",
    "                'Average_Rating_Minimum_',\n",
    "                'Runner_Count_', \n",
    "                'Bar_Back_Count_',\n",
    "                'KP_Count_', \n",
    "                'Waiter_/_Waitress_Count_', \n",
    "                'Runner_4/5*_Count_',\n",
    "                'Bar_Back_4/5*_Count',\n",
    "                'KP_4/5*_Count', \n",
    "                'Waiter_/_Waitress_4/5*_Count',\n",
    "                'Business'\n",
    "]\n"
   ]
  },
  {
   "cell_type": "code",
   "execution_count": null,
   "metadata": {},
   "outputs": [],
   "source": []
  }
 ],
 "metadata": {
  "language_info": {
   "codemirror_mode": {
    "name": "ipython",
    "version": 3
   },
   "file_extension": ".py",
   "mimetype": "text/x-python",
   "name": "python",
   "nbconvert_exporter": "python",
   "pygments_lexer": "ipython3",
   "version": "3.8.2-final"
  },
  "orig_nbformat": 2,
  "kernelspec": {
   "name": "python3",
   "display_name": "Python 3"
  }
 },
 "nbformat": 4,
 "nbformat_minor": 2
}